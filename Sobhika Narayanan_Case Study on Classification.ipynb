{
 "cells": [
  {
   "cell_type": "markdown",
   "id": "07cae007",
   "metadata": {},
   "source": [
    "Assignment Question: \n",
    "Do the following in the iris dataset\n",
    "1. Read the dataset to python environment\n",
    "2. Do the necessary pre-processing steps\n",
    "3. Find out which classification model gives the best result (try all the \n",
    "classification algorithms discussed in the session)"
   ]
  },
  {
   "cell_type": "code",
   "execution_count": 1,
   "id": "8b605edd",
   "metadata": {},
   "outputs": [],
   "source": [
    "# import modules\n",
    "import numpy as np\n",
    "import pandas as pd\n",
    "import matplotlib.pyplot as plt\n",
    "import seaborn as sns"
   ]
  },
  {
   "cell_type": "code",
   "execution_count": 2,
   "id": "cc961003",
   "metadata": {},
   "outputs": [],
   "source": [
    "# load dataset\n",
    "data = pd.read_excel(\"iris.xls\")"
   ]
  },
  {
   "cell_type": "code",
   "execution_count": 3,
   "id": "ace607db",
   "metadata": {},
   "outputs": [
    {
     "data": {
      "text/html": [
       "<div>\n",
       "<style scoped>\n",
       "    .dataframe tbody tr th:only-of-type {\n",
       "        vertical-align: middle;\n",
       "    }\n",
       "\n",
       "    .dataframe tbody tr th {\n",
       "        vertical-align: top;\n",
       "    }\n",
       "\n",
       "    .dataframe thead th {\n",
       "        text-align: right;\n",
       "    }\n",
       "</style>\n",
       "<table border=\"1\" class=\"dataframe\">\n",
       "  <thead>\n",
       "    <tr style=\"text-align: right;\">\n",
       "      <th></th>\n",
       "      <th>SL</th>\n",
       "      <th>SW</th>\n",
       "      <th>PL</th>\n",
       "      <th>PW</th>\n",
       "      <th>Classification</th>\n",
       "    </tr>\n",
       "  </thead>\n",
       "  <tbody>\n",
       "    <tr>\n",
       "      <th>0</th>\n",
       "      <td>5.1</td>\n",
       "      <td>3.5</td>\n",
       "      <td>1.4</td>\n",
       "      <td>0.2</td>\n",
       "      <td>Iris-setosa</td>\n",
       "    </tr>\n",
       "    <tr>\n",
       "      <th>1</th>\n",
       "      <td>4.9</td>\n",
       "      <td>3.0</td>\n",
       "      <td>1.4</td>\n",
       "      <td>0.2</td>\n",
       "      <td>Iris-setosa</td>\n",
       "    </tr>\n",
       "    <tr>\n",
       "      <th>2</th>\n",
       "      <td>NaN</td>\n",
       "      <td>3.2</td>\n",
       "      <td>1.3</td>\n",
       "      <td>0.2</td>\n",
       "      <td>Iris-setosa</td>\n",
       "    </tr>\n",
       "    <tr>\n",
       "      <th>3</th>\n",
       "      <td>4.6</td>\n",
       "      <td>3.1</td>\n",
       "      <td>1.5</td>\n",
       "      <td>0.2</td>\n",
       "      <td>Iris-setosa</td>\n",
       "    </tr>\n",
       "    <tr>\n",
       "      <th>4</th>\n",
       "      <td>5.0</td>\n",
       "      <td>3.6</td>\n",
       "      <td>1.4</td>\n",
       "      <td>0.2</td>\n",
       "      <td>Iris-setosa</td>\n",
       "    </tr>\n",
       "  </tbody>\n",
       "</table>\n",
       "</div>"
      ],
      "text/plain": [
       "    SL   SW   PL   PW Classification\n",
       "0  5.1  3.5  1.4  0.2    Iris-setosa\n",
       "1  4.9  3.0  1.4  0.2    Iris-setosa\n",
       "2  NaN  3.2  1.3  0.2    Iris-setosa\n",
       "3  4.6  3.1  1.5  0.2    Iris-setosa\n",
       "4  5.0  3.6  1.4  0.2    Iris-setosa"
      ]
     },
     "execution_count": 3,
     "metadata": {},
     "output_type": "execute_result"
    }
   ],
   "source": [
    "# Display first few data\n",
    "data.head()"
   ]
  },
  {
   "cell_type": "markdown",
   "id": "26cc4245",
   "metadata": {},
   "source": [
    "### Exploratory Data Analysis"
   ]
  },
  {
   "cell_type": "code",
   "execution_count": 4,
   "id": "96146081",
   "metadata": {},
   "outputs": [
    {
     "data": {
      "text/plain": [
       "array(['Iris-setosa', 'Iris-versicolor', 'Iris-virginica'], dtype=object)"
      ]
     },
     "execution_count": 4,
     "metadata": {},
     "output_type": "execute_result"
    }
   ],
   "source": [
    "data.Classification.unique()"
   ]
  },
  {
   "cell_type": "code",
   "execution_count": 5,
   "id": "bcf36fd0",
   "metadata": {},
   "outputs": [
    {
     "data": {
      "text/plain": [
       "3"
      ]
     },
     "execution_count": 5,
     "metadata": {},
     "output_type": "execute_result"
    }
   ],
   "source": [
    "data.Classification.nunique()"
   ]
  },
  {
   "cell_type": "code",
   "execution_count": 6,
   "id": "5651c17a",
   "metadata": {},
   "outputs": [
    {
     "data": {
      "text/plain": [
       "Iris-setosa        50\n",
       "Iris-versicolor    50\n",
       "Iris-virginica     50\n",
       "Name: Classification, dtype: int64"
      ]
     },
     "execution_count": 6,
     "metadata": {},
     "output_type": "execute_result"
    }
   ],
   "source": [
    "data.Classification.value_counts()"
   ]
  },
  {
   "cell_type": "code",
   "execution_count": 7,
   "id": "425935aa",
   "metadata": {},
   "outputs": [
    {
     "data": {
      "text/plain": [
       "(150, 5)"
      ]
     },
     "execution_count": 7,
     "metadata": {},
     "output_type": "execute_result"
    }
   ],
   "source": [
    "data.shape"
   ]
  },
  {
   "cell_type": "code",
   "execution_count": 8,
   "id": "e3d45f87",
   "metadata": {},
   "outputs": [
    {
     "name": "stdout",
     "output_type": "stream",
     "text": [
      "<class 'pandas.core.frame.DataFrame'>\n",
      "RangeIndex: 150 entries, 0 to 149\n",
      "Data columns (total 5 columns):\n",
      " #   Column          Non-Null Count  Dtype  \n",
      "---  ------          --------------  -----  \n",
      " 0   SL              143 non-null    float64\n",
      " 1   SW              144 non-null    float64\n",
      " 2   PL              144 non-null    float64\n",
      " 3   PW              150 non-null    float64\n",
      " 4   Classification  150 non-null    object \n",
      "dtypes: float64(4), object(1)\n",
      "memory usage: 6.0+ KB\n"
     ]
    }
   ],
   "source": [
    "data.info()"
   ]
  },
  {
   "cell_type": "code",
   "execution_count": 9,
   "id": "b5c89ca0",
   "metadata": {},
   "outputs": [
    {
     "data": {
      "text/html": [
       "<div>\n",
       "<style scoped>\n",
       "    .dataframe tbody tr th:only-of-type {\n",
       "        vertical-align: middle;\n",
       "    }\n",
       "\n",
       "    .dataframe tbody tr th {\n",
       "        vertical-align: top;\n",
       "    }\n",
       "\n",
       "    .dataframe thead th {\n",
       "        text-align: right;\n",
       "    }\n",
       "</style>\n",
       "<table border=\"1\" class=\"dataframe\">\n",
       "  <thead>\n",
       "    <tr style=\"text-align: right;\">\n",
       "      <th></th>\n",
       "      <th>SL</th>\n",
       "      <th>SW</th>\n",
       "      <th>PL</th>\n",
       "      <th>PW</th>\n",
       "    </tr>\n",
       "  </thead>\n",
       "  <tbody>\n",
       "    <tr>\n",
       "      <th>count</th>\n",
       "      <td>143.000000</td>\n",
       "      <td>144.000000</td>\n",
       "      <td>144.000000</td>\n",
       "      <td>150.000000</td>\n",
       "    </tr>\n",
       "    <tr>\n",
       "      <th>mean</th>\n",
       "      <td>5.855944</td>\n",
       "      <td>3.049306</td>\n",
       "      <td>3.756250</td>\n",
       "      <td>1.198667</td>\n",
       "    </tr>\n",
       "    <tr>\n",
       "      <th>std</th>\n",
       "      <td>0.828168</td>\n",
       "      <td>0.430644</td>\n",
       "      <td>1.761306</td>\n",
       "      <td>0.763161</td>\n",
       "    </tr>\n",
       "    <tr>\n",
       "      <th>min</th>\n",
       "      <td>4.300000</td>\n",
       "      <td>2.000000</td>\n",
       "      <td>1.000000</td>\n",
       "      <td>0.100000</td>\n",
       "    </tr>\n",
       "    <tr>\n",
       "      <th>25%</th>\n",
       "      <td>5.100000</td>\n",
       "      <td>2.800000</td>\n",
       "      <td>1.600000</td>\n",
       "      <td>0.300000</td>\n",
       "    </tr>\n",
       "    <tr>\n",
       "      <th>50%</th>\n",
       "      <td>5.800000</td>\n",
       "      <td>3.000000</td>\n",
       "      <td>4.350000</td>\n",
       "      <td>1.300000</td>\n",
       "    </tr>\n",
       "    <tr>\n",
       "      <th>75%</th>\n",
       "      <td>6.400000</td>\n",
       "      <td>3.300000</td>\n",
       "      <td>5.100000</td>\n",
       "      <td>1.800000</td>\n",
       "    </tr>\n",
       "    <tr>\n",
       "      <th>max</th>\n",
       "      <td>7.900000</td>\n",
       "      <td>4.400000</td>\n",
       "      <td>6.900000</td>\n",
       "      <td>2.500000</td>\n",
       "    </tr>\n",
       "  </tbody>\n",
       "</table>\n",
       "</div>"
      ],
      "text/plain": [
       "               SL          SW          PL          PW\n",
       "count  143.000000  144.000000  144.000000  150.000000\n",
       "mean     5.855944    3.049306    3.756250    1.198667\n",
       "std      0.828168    0.430644    1.761306    0.763161\n",
       "min      4.300000    2.000000    1.000000    0.100000\n",
       "25%      5.100000    2.800000    1.600000    0.300000\n",
       "50%      5.800000    3.000000    4.350000    1.300000\n",
       "75%      6.400000    3.300000    5.100000    1.800000\n",
       "max      7.900000    4.400000    6.900000    2.500000"
      ]
     },
     "execution_count": 9,
     "metadata": {},
     "output_type": "execute_result"
    }
   ],
   "source": [
    "# Basic Statistical Computations\n",
    "data.describe()"
   ]
  },
  {
   "cell_type": "code",
   "execution_count": 10,
   "id": "d3235db9",
   "metadata": {},
   "outputs": [
    {
     "data": {
      "text/plain": [
       "SL                7\n",
       "SW                6\n",
       "PL                6\n",
       "PW                0\n",
       "Classification    0\n",
       "dtype: int64"
      ]
     },
     "execution_count": 10,
     "metadata": {},
     "output_type": "execute_result"
    }
   ],
   "source": [
    "data.isna().sum()"
   ]
  },
  {
   "cell_type": "code",
   "execution_count": 11,
   "id": "ef20a649",
   "metadata": {},
   "outputs": [
    {
     "data": {
      "text/html": [
       "<div>\n",
       "<style scoped>\n",
       "    .dataframe tbody tr th:only-of-type {\n",
       "        vertical-align: middle;\n",
       "    }\n",
       "\n",
       "    .dataframe tbody tr th {\n",
       "        vertical-align: top;\n",
       "    }\n",
       "\n",
       "    .dataframe thead th {\n",
       "        text-align: right;\n",
       "    }\n",
       "</style>\n",
       "<table border=\"1\" class=\"dataframe\">\n",
       "  <thead>\n",
       "    <tr style=\"text-align: right;\">\n",
       "      <th></th>\n",
       "      <th>SL</th>\n",
       "      <th>SW</th>\n",
       "      <th>PL</th>\n",
       "      <th>PW</th>\n",
       "      <th>Classification</th>\n",
       "    </tr>\n",
       "  </thead>\n",
       "  <tbody>\n",
       "    <tr>\n",
       "      <th>34</th>\n",
       "      <td>4.9</td>\n",
       "      <td>3.1</td>\n",
       "      <td>1.5</td>\n",
       "      <td>0.1</td>\n",
       "      <td>Iris-setosa</td>\n",
       "    </tr>\n",
       "    <tr>\n",
       "      <th>37</th>\n",
       "      <td>4.9</td>\n",
       "      <td>3.1</td>\n",
       "      <td>1.5</td>\n",
       "      <td>0.1</td>\n",
       "      <td>Iris-setosa</td>\n",
       "    </tr>\n",
       "    <tr>\n",
       "      <th>142</th>\n",
       "      <td>5.8</td>\n",
       "      <td>2.7</td>\n",
       "      <td>5.1</td>\n",
       "      <td>1.9</td>\n",
       "      <td>Iris-virginica</td>\n",
       "    </tr>\n",
       "  </tbody>\n",
       "</table>\n",
       "</div>"
      ],
      "text/plain": [
       "      SL   SW   PL   PW  Classification\n",
       "34   4.9  3.1  1.5  0.1     Iris-setosa\n",
       "37   4.9  3.1  1.5  0.1     Iris-setosa\n",
       "142  5.8  2.7  5.1  1.9  Iris-virginica"
      ]
     },
     "execution_count": 11,
     "metadata": {},
     "output_type": "execute_result"
    }
   ],
   "source": [
    "# find duplicate rows\n",
    "data[data.duplicated()]"
   ]
  },
  {
   "cell_type": "code",
   "execution_count": 12,
   "id": "6e71a75e",
   "metadata": {},
   "outputs": [],
   "source": [
    "# Drop duplicate\n",
    "data = data.drop_duplicates()"
   ]
  },
  {
   "cell_type": "code",
   "execution_count": 13,
   "id": "1655693c",
   "metadata": {},
   "outputs": [
    {
     "data": {
      "text/html": [
       "<div>\n",
       "<style scoped>\n",
       "    .dataframe tbody tr th:only-of-type {\n",
       "        vertical-align: middle;\n",
       "    }\n",
       "\n",
       "    .dataframe tbody tr th {\n",
       "        vertical-align: top;\n",
       "    }\n",
       "\n",
       "    .dataframe thead th {\n",
       "        text-align: right;\n",
       "    }\n",
       "</style>\n",
       "<table border=\"1\" class=\"dataframe\">\n",
       "  <thead>\n",
       "    <tr style=\"text-align: right;\">\n",
       "      <th></th>\n",
       "      <th>SL</th>\n",
       "      <th>SW</th>\n",
       "      <th>PL</th>\n",
       "      <th>PW</th>\n",
       "      <th>Classification</th>\n",
       "    </tr>\n",
       "  </thead>\n",
       "  <tbody>\n",
       "  </tbody>\n",
       "</table>\n",
       "</div>"
      ],
      "text/plain": [
       "Empty DataFrame\n",
       "Columns: [SL, SW, PL, PW, Classification]\n",
       "Index: []"
      ]
     },
     "execution_count": 13,
     "metadata": {},
     "output_type": "execute_result"
    }
   ],
   "source": [
    "data[data.duplicated()]"
   ]
  },
  {
   "cell_type": "code",
   "execution_count": 14,
   "id": "2fad15c1",
   "metadata": {},
   "outputs": [
    {
     "data": {
      "image/png": "[encoded data removed]",
      "text/plain": [
       "<Figure size 1000x500 with 4 Axes>"
      ]
     },
     "metadata": {},
     "output_type": "display_data"
    }
   ],
   "source": [
    "# histograms\n",
    "freqgraph = data.select_dtypes(include=['float'])\n",
    "freqgraph.hist(figsize=(10,5))\n",
    "plt.show()"
   ]
  },
  {
   "cell_type": "code",
   "execution_count": 15,
   "id": "fe56049b",
   "metadata": {},
   "outputs": [],
   "source": [
    "# handling null values in SL, SW, PL columns\n",
    "# SL, SW, PL being sightly skewed, replace null with median\n",
    "for col in ['SL','SW','PL']:\n",
    "    data[col]=data[col].fillna(data[col].median())"
   ]
  },
  {
   "cell_type": "code",
   "execution_count": 16,
   "id": "9110fe9b",
   "metadata": {},
   "outputs": [
    {
     "data": {
      "text/plain": [
       "SL                0\n",
       "SW                0\n",
       "PL                0\n",
       "PW                0\n",
       "Classification    0\n",
       "dtype: int64"
      ]
     },
     "execution_count": 16,
     "metadata": {},
     "output_type": "execute_result"
    }
   ],
   "source": [
    "data.isna().sum()"
   ]
  },
  {
   "cell_type": "markdown",
   "id": "06f1cfab",
   "metadata": {},
   "source": [
    "### Label Encoding"
   ]
  },
  {
   "cell_type": "code",
   "execution_count": 17,
   "id": "fa4ff228",
   "metadata": {},
   "outputs": [
    {
     "data": {
      "text/html": [
       "<div>\n",
       "<style scoped>\n",
       "    .dataframe tbody tr th:only-of-type {\n",
       "        vertical-align: middle;\n",
       "    }\n",
       "\n",
       "    .dataframe tbody tr th {\n",
       "        vertical-align: top;\n",
       "    }\n",
       "\n",
       "    .dataframe thead th {\n",
       "        text-align: right;\n",
       "    }\n",
       "</style>\n",
       "<table border=\"1\" class=\"dataframe\">\n",
       "  <thead>\n",
       "    <tr style=\"text-align: right;\">\n",
       "      <th></th>\n",
       "      <th>SL</th>\n",
       "      <th>SW</th>\n",
       "      <th>PL</th>\n",
       "      <th>PW</th>\n",
       "      <th>Classification</th>\n",
       "    </tr>\n",
       "  </thead>\n",
       "  <tbody>\n",
       "    <tr>\n",
       "      <th>0</th>\n",
       "      <td>5.1</td>\n",
       "      <td>3.5</td>\n",
       "      <td>1.4</td>\n",
       "      <td>0.2</td>\n",
       "      <td>0</td>\n",
       "    </tr>\n",
       "    <tr>\n",
       "      <th>1</th>\n",
       "      <td>4.9</td>\n",
       "      <td>3.0</td>\n",
       "      <td>1.4</td>\n",
       "      <td>0.2</td>\n",
       "      <td>0</td>\n",
       "    </tr>\n",
       "    <tr>\n",
       "      <th>2</th>\n",
       "      <td>5.8</td>\n",
       "      <td>3.2</td>\n",
       "      <td>1.3</td>\n",
       "      <td>0.2</td>\n",
       "      <td>0</td>\n",
       "    </tr>\n",
       "    <tr>\n",
       "      <th>3</th>\n",
       "      <td>4.6</td>\n",
       "      <td>3.1</td>\n",
       "      <td>1.5</td>\n",
       "      <td>0.2</td>\n",
       "      <td>0</td>\n",
       "    </tr>\n",
       "    <tr>\n",
       "      <th>4</th>\n",
       "      <td>5.0</td>\n",
       "      <td>3.6</td>\n",
       "      <td>1.4</td>\n",
       "      <td>0.2</td>\n",
       "      <td>0</td>\n",
       "    </tr>\n",
       "  </tbody>\n",
       "</table>\n",
       "</div>"
      ],
      "text/plain": [
       "    SL   SW   PL   PW  Classification\n",
       "0  5.1  3.5  1.4  0.2               0\n",
       "1  4.9  3.0  1.4  0.2               0\n",
       "2  5.8  3.2  1.3  0.2               0\n",
       "3  4.6  3.1  1.5  0.2               0\n",
       "4  5.0  3.6  1.4  0.2               0"
      ]
     },
     "execution_count": 17,
     "metadata": {},
     "output_type": "execute_result"
    }
   ],
   "source": [
    "# Label encoding 'Classification' column which is in string format\n",
    "from sklearn.preprocessing import LabelEncoder\n",
    "le = LabelEncoder()\n",
    "data['Classification'] = le.fit_transform(data['Classification'])\n",
    "data.head()"
   ]
  },
  {
   "cell_type": "markdown",
   "id": "d461578c",
   "metadata": {},
   "source": [
    "### Correlation"
   ]
  },
  {
   "cell_type": "code",
   "execution_count": 18,
   "id": "a25ede85",
   "metadata": {},
   "outputs": [
    {
     "data": {
      "text/html": [
       "<div>\n",
       "<style scoped>\n",
       "    .dataframe tbody tr th:only-of-type {\n",
       "        vertical-align: middle;\n",
       "    }\n",
       "\n",
       "    .dataframe tbody tr th {\n",
       "        vertical-align: top;\n",
       "    }\n",
       "\n",
       "    .dataframe thead th {\n",
       "        text-align: right;\n",
       "    }\n",
       "</style>\n",
       "<table border=\"1\" class=\"dataframe\">\n",
       "  <thead>\n",
       "    <tr style=\"text-align: right;\">\n",
       "      <th></th>\n",
       "      <th>SL</th>\n",
       "      <th>SW</th>\n",
       "      <th>PL</th>\n",
       "      <th>PW</th>\n",
       "      <th>Classification</th>\n",
       "    </tr>\n",
       "  </thead>\n",
       "  <tbody>\n",
       "    <tr>\n",
       "      <th>SL</th>\n",
       "      <td>1.000000</td>\n",
       "      <td>-0.098734</td>\n",
       "      <td>0.828716</td>\n",
       "      <td>0.799399</td>\n",
       "      <td>0.774153</td>\n",
       "    </tr>\n",
       "    <tr>\n",
       "      <th>SW</th>\n",
       "      <td>-0.098734</td>\n",
       "      <td>1.000000</td>\n",
       "      <td>-0.405123</td>\n",
       "      <td>-0.337745</td>\n",
       "      <td>-0.402077</td>\n",
       "    </tr>\n",
       "    <tr>\n",
       "      <th>PL</th>\n",
       "      <td>0.828716</td>\n",
       "      <td>-0.405123</td>\n",
       "      <td>1.000000</td>\n",
       "      <td>0.934041</td>\n",
       "      <td>0.925788</td>\n",
       "    </tr>\n",
       "    <tr>\n",
       "      <th>PW</th>\n",
       "      <td>0.799399</td>\n",
       "      <td>-0.337745</td>\n",
       "      <td>0.934041</td>\n",
       "      <td>1.000000</td>\n",
       "      <td>0.955693</td>\n",
       "    </tr>\n",
       "    <tr>\n",
       "      <th>Classification</th>\n",
       "      <td>0.774153</td>\n",
       "      <td>-0.402077</td>\n",
       "      <td>0.925788</td>\n",
       "      <td>0.955693</td>\n",
       "      <td>1.000000</td>\n",
       "    </tr>\n",
       "  </tbody>\n",
       "</table>\n",
       "</div>"
      ],
      "text/plain": [
       "                      SL        SW        PL        PW  Classification\n",
       "SL              1.000000 -0.098734  0.828716  0.799399        0.774153\n",
       "SW             -0.098734  1.000000 -0.405123 -0.337745       -0.402077\n",
       "PL              0.828716 -0.405123  1.000000  0.934041        0.925788\n",
       "PW              0.799399 -0.337745  0.934041  1.000000        0.955693\n",
       "Classification  0.774153 -0.402077  0.925788  0.955693        1.000000"
      ]
     },
     "execution_count": 18,
     "metadata": {},
     "output_type": "execute_result"
    }
   ],
   "source": [
    "# Correlation between different columns\n",
    "data.corr()"
   ]
  },
  {
   "cell_type": "code",
   "execution_count": 19,
   "id": "c2ff4a32",
   "metadata": {
    "scrolled": false
   },
   "outputs": [
    {
     "data": {
      "text/plain": [
       "<AxesSubplot: >"
      ]
     },
     "execution_count": 19,
     "metadata": {},
     "output_type": "execute_result"
    },
    {
     "data": {
      "image/png": "[encoded data removed]",
      "text/plain": [
       "<Figure size 500x500 with 2 Axes>"
      ]
     },
     "metadata": {},
     "output_type": "display_data"
    }
   ],
   "source": [
    "# heatmap\n",
    "corr = data.corr()\n",
    "fig, ax = plt.subplots(figsize=(5,5))\n",
    "sns.heatmap(corr, annot=True, ax=ax)"
   ]
  },
  {
   "cell_type": "markdown",
   "id": "b58ded67",
   "metadata": {},
   "source": [
    "### Classification"
   ]
  },
  {
   "cell_type": "code",
   "execution_count": 20,
   "id": "6626631e",
   "metadata": {},
   "outputs": [],
   "source": [
    "# split data into feature and target\n",
    "x = data.drop(['Classification'], axis=1)\n",
    "y = data['Classification']"
   ]
  },
  {
   "cell_type": "code",
   "execution_count": 21,
   "id": "535966a8",
   "metadata": {},
   "outputs": [],
   "source": [
    "# splitting X and y into training and testing sets\n",
    "from sklearn.model_selection import train_test_split\n",
    "x_train, x_test, y_train, y_test = train_test_split(x,y, random_state=42, test_size = 0.20, )"
   ]
  },
  {
   "cell_type": "markdown",
   "id": "5539e8ac",
   "metadata": {},
   "source": [
    "# Classification models"
   ]
  },
  {
   "cell_type": "markdown",
   "id": "9d34b383",
   "metadata": {},
   "source": [
    "### 1. Logistic Regression model"
   ]
  },
  {
   "cell_type": "code",
   "execution_count": 22,
   "id": "d78663b9",
   "metadata": {},
   "outputs": [
    {
     "data": {
      "text/plain": [
       "array([2, 1, 2, 0, 1, 0, 1, 0, 2, 0, 0, 0, 2, 1, 2, 1, 0, 1, 2, 0, 0, 2,\n",
       "       0, 2, 1, 0, 1, 2, 1, 0])"
      ]
     },
     "execution_count": 22,
     "metadata": {},
     "output_type": "execute_result"
    }
   ],
   "source": [
    "# multinomial Logistic Regression  -- since target column has more that two outcomes\n",
    "from sklearn.linear_model import LogisticRegression\n",
    "model = LogisticRegression(multi_class='multinomial', solver='lbfgs')\n",
    "# Fit the model on the training data\n",
    "model.fit(x_train,y_train)\n",
    "# Predict values\n",
    "y_pred_lr = model.predict(x_test)\n",
    "y_pred_lr"
   ]
  },
  {
   "cell_type": "markdown",
   "id": "080dc32a",
   "metadata": {},
   "source": [
    "##### Summarizing the performance of the alogorithm"
   ]
  },
  {
   "cell_type": "code",
   "execution_count": 23,
   "id": "a8a542b6",
   "metadata": {},
   "outputs": [
    {
     "name": "stdout",
     "output_type": "stream",
     "text": [
      "Confusion Matrix:\n",
      " [[11  0  0]\n",
      " [ 1  8  1]\n",
      " [ 0  1  8]]\n",
      "Classification Report:\n",
      "               precision    recall  f1-score   support\n",
      "\n",
      "           0       0.92      1.00      0.96        11\n",
      "           1       0.89      0.80      0.84        10\n",
      "           2       0.89      0.89      0.89         9\n",
      "\n",
      "    accuracy                           0.90        30\n",
      "   macro avg       0.90      0.90      0.90        30\n",
      "weighted avg       0.90      0.90      0.90        30\n",
      "\n",
      "Accuracy of Logistic Regression model :  0.9\n",
      "Precision of Logistic Regression model :  0.898148148148148\n",
      "Recall of Logistic Regression model :  0.8962962962962964\n",
      "F-score of Logistic Regression model :  0.8958386303924062\n"
     ]
    }
   ],
   "source": [
    "from sklearn.metrics import classification_report, confusion_matrix, accuracy_score\n",
    "conf_m_lr = confusion_matrix(y_test, y_pred_lr)\n",
    "print('Confusion Matrix:\\n',conf_m_lr)\n",
    "clas_rpt_lr = classification_report(y_test, y_pred_lr)\n",
    "print('Classification Report:\\n', clas_rpt_lr)\n",
    "acc_lr = accuracy_score(y_test, y_pred_lr)\n",
    "print('Accuracy of Logistic Regression model : ', acc_lr)\n",
    "\n",
    "from sklearn.metrics import precision_recall_fscore_support as score\n",
    "precision_lr,recall_lr,fscore_lr,support_lr=score(y_test,y_pred_lr,average='macro')\n",
    "print('Precision of Logistic Regression model : ', precision_lr)\n",
    "print('Recall of Logistic Regression model : ', recall_lr)\n",
    "print('F-score of Logistic Regression model : ', fscore_lr)"
   ]
  },
  {
   "cell_type": "markdown",
   "id": "b09f66bd",
   "metadata": {},
   "source": [
    "### 2. k-Nearest Neighbors (kNN) Model"
   ]
  },
  {
   "cell_type": "code",
   "execution_count": 24,
   "id": "006bd04f",
   "metadata": {
    "scrolled": true
   },
   "outputs": [
    {
     "name": "stderr",
     "output_type": "stream",
     "text": [
      "C:\\Users\\sobhi\\anaconda3\\lib\\site-packages\\sklearn\\neighbors\\_classification.py:228: FutureWarning: Unlike other reduction functions (e.g. `skew`, `kurtosis`), the default behavior of `mode` typically preserves the axis it acts along. In SciPy 1.11.0, this behavior will change: the default value of `keepdims` will become False, the `axis` over which the statistic is taken will be eliminated, and the value None will no longer be accepted. Set `keepdims` to True or False to avoid this warning.\n",
      "  mode, _ = stats.mode(_y[neigh_ind, k], axis=1)\n",
      "C:\\Users\\sobhi\\anaconda3\\lib\\site-packages\\sklearn\\neighbors\\_classification.py:228: FutureWarning: Unlike other reduction functions (e.g. `skew`, `kurtosis`), the default behavior of `mode` typically preserves the axis it acts along. In SciPy 1.11.0, this behavior will change: the default value of `keepdims` will become False, the `axis` over which the statistic is taken will be eliminated, and the value None will no longer be accepted. Set `keepdims` to True or False to avoid this warning.\n",
      "  mode, _ = stats.mode(_y[neigh_ind, k], axis=1)\n",
      "C:\\Users\\sobhi\\anaconda3\\lib\\site-packages\\sklearn\\neighbors\\_classification.py:228: FutureWarning: Unlike other reduction functions (e.g. `skew`, `kurtosis`), the default behavior of `mode` typically preserves the axis it acts along. In SciPy 1.11.0, this behavior will change: the default value of `keepdims` will become False, the `axis` over which the statistic is taken will be eliminated, and the value None will no longer be accepted. Set `keepdims` to True or False to avoid this warning.\n",
      "  mode, _ = stats.mode(_y[neigh_ind, k], axis=1)\n",
      "C:\\Users\\sobhi\\anaconda3\\lib\\site-packages\\sklearn\\neighbors\\_classification.py:228: FutureWarning: Unlike other reduction functions (e.g. `skew`, `kurtosis`), the default behavior of `mode` typically preserves the axis it acts along. In SciPy 1.11.0, this behavior will change: the default value of `keepdims` will become False, the `axis` over which the statistic is taken will be eliminated, and the value None will no longer be accepted. Set `keepdims` to True or False to avoid this warning.\n",
      "  mode, _ = stats.mode(_y[neigh_ind, k], axis=1)\n",
      "C:\\Users\\sobhi\\anaconda3\\lib\\site-packages\\sklearn\\neighbors\\_classification.py:228: FutureWarning: Unlike other reduction functions (e.g. `skew`, `kurtosis`), the default behavior of `mode` typically preserves the axis it acts along. In SciPy 1.11.0, this behavior will change: the default value of `keepdims` will become False, the `axis` over which the statistic is taken will be eliminated, and the value None will no longer be accepted. Set `keepdims` to True or False to avoid this warning.\n",
      "  mode, _ = stats.mode(_y[neigh_ind, k], axis=1)\n",
      "C:\\Users\\sobhi\\anaconda3\\lib\\site-packages\\sklearn\\neighbors\\_classification.py:228: FutureWarning: Unlike other reduction functions (e.g. `skew`, `kurtosis`), the default behavior of `mode` typically preserves the axis it acts along. In SciPy 1.11.0, this behavior will change: the default value of `keepdims` will become False, the `axis` over which the statistic is taken will be eliminated, and the value None will no longer be accepted. Set `keepdims` to True or False to avoid this warning.\n",
      "  mode, _ = stats.mode(_y[neigh_ind, k], axis=1)\n",
      "C:\\Users\\sobhi\\anaconda3\\lib\\site-packages\\sklearn\\neighbors\\_classification.py:228: FutureWarning: Unlike other reduction functions (e.g. `skew`, `kurtosis`), the default behavior of `mode` typically preserves the axis it acts along. In SciPy 1.11.0, this behavior will change: the default value of `keepdims` will become False, the `axis` over which the statistic is taken will be eliminated, and the value None will no longer be accepted. Set `keepdims` to True or False to avoid this warning.\n",
      "  mode, _ = stats.mode(_y[neigh_ind, k], axis=1)\n",
      "C:\\Users\\sobhi\\anaconda3\\lib\\site-packages\\sklearn\\neighbors\\_classification.py:228: FutureWarning: Unlike other reduction functions (e.g. `skew`, `kurtosis`), the default behavior of `mode` typically preserves the axis it acts along. In SciPy 1.11.0, this behavior will change: the default value of `keepdims` will become False, the `axis` over which the statistic is taken will be eliminated, and the value None will no longer be accepted. Set `keepdims` to True or False to avoid this warning.\n",
      "  mode, _ = stats.mode(_y[neigh_ind, k], axis=1)\n",
      "C:\\Users\\sobhi\\anaconda3\\lib\\site-packages\\sklearn\\neighbors\\_classification.py:228: FutureWarning: Unlike other reduction functions (e.g. `skew`, `kurtosis`), the default behavior of `mode` typically preserves the axis it acts along. In SciPy 1.11.0, this behavior will change: the default value of `keepdims` will become False, the `axis` over which the statistic is taken will be eliminated, and the value None will no longer be accepted. Set `keepdims` to True or False to avoid this warning.\n",
      "  mode, _ = stats.mode(_y[neigh_ind, k], axis=1)\n",
      "C:\\Users\\sobhi\\anaconda3\\lib\\site-packages\\sklearn\\neighbors\\_classification.py:228: FutureWarning: Unlike other reduction functions (e.g. `skew`, `kurtosis`), the default behavior of `mode` typically preserves the axis it acts along. In SciPy 1.11.0, this behavior will change: the default value of `keepdims` will become False, the `axis` over which the statistic is taken will be eliminated, and the value None will no longer be accepted. Set `keepdims` to True or False to avoid this warning.\n",
      "  mode, _ = stats.mode(_y[neigh_ind, k], axis=1)\n",
      "C:\\Users\\sobhi\\anaconda3\\lib\\site-packages\\sklearn\\neighbors\\_classification.py:228: FutureWarning: Unlike other reduction functions (e.g. `skew`, `kurtosis`), the default behavior of `mode` typically preserves the axis it acts along. In SciPy 1.11.0, this behavior will change: the default value of `keepdims` will become False, the `axis` over which the statistic is taken will be eliminated, and the value None will no longer be accepted. Set `keepdims` to True or False to avoid this warning.\n",
      "  mode, _ = stats.mode(_y[neigh_ind, k], axis=1)\n",
      "C:\\Users\\sobhi\\anaconda3\\lib\\site-packages\\sklearn\\neighbors\\_classification.py:228: FutureWarning: Unlike other reduction functions (e.g. `skew`, `kurtosis`), the default behavior of `mode` typically preserves the axis it acts along. In SciPy 1.11.0, this behavior will change: the default value of `keepdims` will become False, the `axis` over which the statistic is taken will be eliminated, and the value None will no longer be accepted. Set `keepdims` to True or False to avoid this warning.\n",
      "  mode, _ = stats.mode(_y[neigh_ind, k], axis=1)\n"
     ]
    }
   ],
   "source": [
    "# Multiclass KNN\n",
    "from sklearn.neighbors import KNeighborsClassifier\n",
    "metric_k = []\n",
    "neighbors = np.arange(3,15)\n",
    "\n",
    "for k in neighbors:\n",
    "    classifier = KNeighborsClassifier(n_neighbors=k,metric='minkowski',p=2)\n",
    "    model = classifier.fit(x_train,y_train)\n",
    "    y_pred = model.predict(x_test)\n",
    "    acc = accuracy_score(y_test,y_pred)\n",
    "    metric_k.append(acc)"
   ]
  },
  {
   "cell_type": "code",
   "execution_count": 25,
   "id": "bfda5eeb",
   "metadata": {},
   "outputs": [
    {
     "name": "stdout",
     "output_type": "stream",
     "text": [
      "[0.9333333333333333, 0.9333333333333333, 0.9333333333333333, 0.9333333333333333, 0.9333333333333333, 0.9, 0.9, 0.9, 0.9333333333333333, 0.9333333333333333, 0.9333333333333333, 0.9333333333333333]\n"
     ]
    },
    {
     "data": {
      "text/plain": [
       "<function matplotlib.pyplot.grid(visible=None, which='major', axis='both', **kwargs)>"
      ]
     },
     "execution_count": 25,
     "metadata": {},
     "output_type": "execute_result"
    },
    {
     "data": {
      "image/png": "[encoded data removed]",
      "text/plain": [
       "<Figure size 640x480 with 1 Axes>"
      ]
     },
     "metadata": {},
     "output_type": "display_data"
    }
   ],
   "source": [
    "print(metric_k)\n",
    "\n",
    "plt.plot(neighbors,metric_k,'o-')\n",
    "plt.xlabel('k value')\n",
    "plt.ylabel('accuracy')\n",
    "plt.grid"
   ]
  },
  {
   "cell_type": "code",
   "execution_count": 26,
   "id": "39d36f12",
   "metadata": {},
   "outputs": [
    {
     "name": "stderr",
     "output_type": "stream",
     "text": [
      "C:\\Users\\sobhi\\anaconda3\\lib\\site-packages\\sklearn\\neighbors\\_classification.py:228: FutureWarning: Unlike other reduction functions (e.g. `skew`, `kurtosis`), the default behavior of `mode` typically preserves the axis it acts along. In SciPy 1.11.0, this behavior will change: the default value of `keepdims` will become False, the `axis` over which the statistic is taken will be eliminated, and the value None will no longer be accepted. Set `keepdims` to True or False to avoid this warning.\n",
      "  mode, _ = stats.mode(_y[neigh_ind, k], axis=1)\n"
     ]
    }
   ],
   "source": [
    "classifier = KNeighborsClassifier(n_neighbors=5,metric='minkowski',p=2)\n",
    "model = classifier.fit(x_train,y_train)\n",
    "y_pred_k = model.predict(x_test)\n",
    "acc = accuracy_score(y_test,y_pred_k)\n",
    "metric_k.append(acc)"
   ]
  },
  {
   "cell_type": "markdown",
   "id": "b6b5a380",
   "metadata": {},
   "source": [
    "##### Summarizing the performance of the alogorithm"
   ]
  },
  {
   "cell_type": "code",
   "execution_count": 27,
   "id": "f12341e1",
   "metadata": {},
   "outputs": [
    {
     "name": "stdout",
     "output_type": "stream",
     "text": [
      "Confusion Matrix:\n",
      " [[11  0  0]\n",
      " [ 0  9  1]\n",
      " [ 0  1  8]]\n",
      "Classification Report:\n",
      "               precision    recall  f1-score   support\n",
      "\n",
      "           0       1.00      1.00      1.00        11\n",
      "           1       0.90      0.90      0.90        10\n",
      "           2       0.89      0.89      0.89         9\n",
      "\n",
      "    accuracy                           0.93        30\n",
      "   macro avg       0.93      0.93      0.93        30\n",
      "weighted avg       0.93      0.93      0.93        30\n",
      "\n",
      "Accuracy:  0.9333333333333333\n",
      "Precision of kNN model :  0.898148148148148\n",
      "Recall of kNN model :  0.8962962962962964\n",
      "F-score of kNN model :  0.8958386303924062\n"
     ]
    }
   ],
   "source": [
    "conf_m_k= confusion_matrix(y_test, y_pred_k)\n",
    "print('Confusion Matrix:\\n',conf_m_k)\n",
    "clas_rpt_k = classification_report(y_test, y_pred_k)\n",
    "print('Classification Report:\\n', clas_rpt_k)\n",
    "acc_k = accuracy_score(y_test, y_pred_k)\n",
    "print('Accuracy: ', acc_k)\n",
    "\n",
    "from sklearn.metrics import precision_recall_fscore_support as score\n",
    "precision_k,recall_k,fscore_k,support_k=score(y_test,y_pred_lr,average='macro')\n",
    "print('Precision of kNN model : ',precision_k)\n",
    "print('Recall of kNN model : ',recall_k)\n",
    "print('F-score of kNN model : ',fscore_k)"
   ]
  },
  {
   "cell_type": "markdown",
   "id": "343d879d",
   "metadata": {},
   "source": [
    "# Support Vector Machines (SVM) Classifier\n",
    "### i. SVC with Linear Kernel"
   ]
  },
  {
   "cell_type": "code",
   "execution_count": 28,
   "id": "29f9313d",
   "metadata": {},
   "outputs": [
    {
     "data": {
      "text/plain": [
       "array([2, 1, 2, 0, 2, 0, 1, 0, 2, 0, 0, 1, 2, 1, 2, 1, 0, 1, 2, 0, 0, 2,\n",
       "       0, 2, 1, 0, 1, 2, 1, 0])"
      ]
     },
     "execution_count": 28,
     "metadata": {},
     "output_type": "execute_result"
    }
   ],
   "source": [
    "# import svm classifier \n",
    "from sklearn.svm import SVC\n",
    "svmclf = SVC(kernel = 'linear')\n",
    "svmclf.fit(x_train, y_train)\n",
    "y_pred_SVClr = svmclf.predict(x_test)\n",
    "y_pred_SVClr"
   ]
  },
  {
   "cell_type": "markdown",
   "id": "33cd919f",
   "metadata": {},
   "source": [
    "##### Summarizing the performance of the alogorithm"
   ]
  },
  {
   "cell_type": "code",
   "execution_count": 29,
   "id": "7ab5e3bc",
   "metadata": {},
   "outputs": [
    {
     "name": "stdout",
     "output_type": "stream",
     "text": [
      "Confusion Matrix:\n",
      " [[11  0  0]\n",
      " [ 0  9  1]\n",
      " [ 0  0  9]]\n",
      "Classification Report:\n",
      "               precision    recall  f1-score   support\n",
      "\n",
      "           0       1.00      1.00      1.00        11\n",
      "           1       1.00      0.90      0.95        10\n",
      "           2       0.90      1.00      0.95         9\n",
      "\n",
      "    accuracy                           0.97        30\n",
      "   macro avg       0.97      0.97      0.96        30\n",
      "weighted avg       0.97      0.97      0.97        30\n",
      "\n",
      "Accuracy:  0.9666666666666667\n",
      "Precision of SVM model with linear kernel : 0.898148148148148\n",
      "Recall of SVM model with linear kernel : 0.8962962962962964\n",
      "F-score of SVM model with linear kernel : 0.8958386303924062\n"
     ]
    }
   ],
   "source": [
    "conf_m_SVClr = confusion_matrix(y_test, y_pred_SVClr)\n",
    "print('Confusion Matrix:\\n',conf_m_SVClr)\n",
    "clas_rpt_SVClr = classification_report(y_test, y_pred_SVClr)\n",
    "print('Classification Report:\\n', clas_rpt_SVClr)\n",
    "acc_SVClr = accuracy_score(y_test, y_pred_SVClr)\n",
    "print('Accuracy: ', acc_SVClr)\n",
    "\n",
    "from sklearn.metrics import precision_recall_fscore_support as score\n",
    "\n",
    "precision_SVClr,recall_SVClr,fscore_SVClr,support_SVClr=score(y_test,y_pred_lr,average='macro')\n",
    "print('Precision of SVM model with linear kernel : {}'.format(precision_SVClr))\n",
    "print('Recall of SVM model with linear kernel : {}'.format(recall_SVClr))\n",
    "print('F-score of SVM model with linear kernel : {}'.format(fscore_SVClr))"
   ]
  },
  {
   "cell_type": "markdown",
   "id": "4761ad96",
   "metadata": {},
   "source": [
    "### ii. SVC with rbf Kernel"
   ]
  },
  {
   "cell_type": "code",
   "execution_count": 30,
   "id": "25eb3b46",
   "metadata": {},
   "outputs": [
    {
     "data": {
      "text/plain": [
       "array([2, 1, 2, 0, 1, 0, 1, 0, 2, 0, 0, 1, 2, 1, 2, 1, 0, 1, 1, 0, 0, 2,\n",
       "       0, 2, 1, 0, 1, 2, 1, 0])"
      ]
     },
     "execution_count": 30,
     "metadata": {},
     "output_type": "execute_result"
    }
   ],
   "source": [
    "svmclf = SVC(kernel = 'rbf')\n",
    "svmclf.fit(x_train, y_train)\n",
    "y_pred_SVCr = svmclf.predict(x_test)\n",
    "y_pred_SVCr"
   ]
  },
  {
   "cell_type": "markdown",
   "id": "dc2e4c9d",
   "metadata": {},
   "source": [
    "##### Summarizing the performance of the alogorithm"
   ]
  },
  {
   "cell_type": "code",
   "execution_count": 31,
   "id": "802f022a",
   "metadata": {},
   "outputs": [
    {
     "name": "stdout",
     "output_type": "stream",
     "text": [
      "Confusion Matrix:\n",
      " [[11  0  0]\n",
      " [ 0  9  1]\n",
      " [ 0  2  7]]\n",
      "Classification Report:\n",
      "               precision    recall  f1-score   support\n",
      "\n",
      "           0       1.00      1.00      1.00        11\n",
      "           1       0.82      0.90      0.86        10\n",
      "           2       0.88      0.78      0.82         9\n",
      "\n",
      "    accuracy                           0.90        30\n",
      "   macro avg       0.90      0.89      0.89        30\n",
      "weighted avg       0.90      0.90      0.90        30\n",
      "\n",
      "Accuracy:  0.9\n",
      "Precision of SVM model with rbf kernel : 0.898148148148148\n",
      "Recall of SVM model with rbf kernel : 0.8962962962962964\n",
      "F-score of SVM model with rbf kernel : 0.8958386303924062\n"
     ]
    }
   ],
   "source": [
    "conf_m_SVCr = confusion_matrix(y_test, y_pred_SVCr)\n",
    "print('Confusion Matrix:\\n',conf_m_SVCr)\n",
    "clas_rpt_SVCr = classification_report(y_test, y_pred_SVCr)\n",
    "print('Classification Report:\\n', clas_rpt_SVCr)\n",
    "acc_SVCr = accuracy_score(y_test, y_pred_SVCr)\n",
    "print('Accuracy: ', acc_SVCr)\n",
    "\n",
    "from sklearn.metrics import precision_recall_fscore_support as score\n",
    "\n",
    "precision_SVCr,recall_SVCr,fscore_SVCr,support_SVCr=score(y_test,y_pred_lr,average='macro')\n",
    "print('Precision of SVM model with rbf kernel : {}'.format(precision_SVCr))\n",
    "print('Recall of SVM model with rbf kernel : {}'.format(recall_SVCr))\n",
    "print('F-score of SVM model with rbf kernel : {}'.format(fscore_SVCr))"
   ]
  },
  {
   "cell_type": "markdown",
   "id": "c4b28caf",
   "metadata": {},
   "source": [
    "### iii. SVC with poly Kernel"
   ]
  },
  {
   "cell_type": "code",
   "execution_count": 32,
   "id": "ee2e3619",
   "metadata": {},
   "outputs": [
    {
     "data": {
      "text/plain": [
       "array([2, 1, 2, 0, 2, 0, 1, 0, 2, 0, 0, 1, 2, 1, 2, 2, 0, 1, 2, 0, 0, 2,\n",
       "       0, 2, 1, 0, 1, 2, 1, 0])"
      ]
     },
     "execution_count": 32,
     "metadata": {},
     "output_type": "execute_result"
    }
   ],
   "source": [
    "svmclf = SVC(kernel = 'poly')\n",
    "svmclf.fit(x_train, y_train)\n",
    "y_pred_SVCp = svmclf.predict(x_test)\n",
    "y_pred_SVCp"
   ]
  },
  {
   "cell_type": "markdown",
   "id": "0e099ed4",
   "metadata": {},
   "source": [
    "##### Summarizing the performance of the alogorithm"
   ]
  },
  {
   "cell_type": "code",
   "execution_count": 33,
   "id": "5e76b2e8",
   "metadata": {},
   "outputs": [
    {
     "name": "stdout",
     "output_type": "stream",
     "text": [
      "Confusion Matrix:\n",
      " [[11  0  0]\n",
      " [ 0  8  2]\n",
      " [ 0  0  9]]\n",
      "Classification Report:\n",
      "               precision    recall  f1-score   support\n",
      "\n",
      "           0       1.00      1.00      1.00        11\n",
      "           1       1.00      0.80      0.89        10\n",
      "           2       0.82      1.00      0.90         9\n",
      "\n",
      "    accuracy                           0.93        30\n",
      "   macro avg       0.94      0.93      0.93        30\n",
      "weighted avg       0.95      0.93      0.93        30\n",
      "\n",
      "Accuracy:  0.9333333333333333\n",
      "Precision of SVM model with poly kernel : 0.898148148148148\n",
      "Recall of SVM model with poly kernel : 0.8962962962962964\n",
      "F-score of SVM model with poly kernel : 0.8958386303924062\n"
     ]
    }
   ],
   "source": [
    "conf_m_SVCp = confusion_matrix(y_test, y_pred_SVCp)\n",
    "print('Confusion Matrix:\\n',conf_m_SVCp)\n",
    "clas_rpt_SVCp = classification_report(y_test, y_pred_SVCp)\n",
    "print('Classification Report:\\n', clas_rpt_SVCp)\n",
    "acc_SVCp = accuracy_score(y_test, y_pred_SVCp)\n",
    "print('Accuracy: ', acc_SVCp)\n",
    "\n",
    "from sklearn.metrics import precision_recall_fscore_support as score\n",
    "\n",
    "precision_SVCp,recall_SVCp,fscore_SVCp,support_SVCp=score(y_test,y_pred_lr,average='macro')\n",
    "print('Precision of SVM model with poly kernel : {}'.format(precision_SVCp))\n",
    "print('Recall of SVM model with poly kernel : {}'.format(recall_SVCp))\n",
    "print('F-score of SVM model with poly kernel : {}'.format(fscore_SVCp))"
   ]
  },
  {
   "cell_type": "markdown",
   "id": "a3a0daea",
   "metadata": {},
   "source": [
    "# Decision Tree"
   ]
  },
  {
   "cell_type": "code",
   "execution_count": 34,
   "id": "7894160f",
   "metadata": {},
   "outputs": [
    {
     "data": {
      "text/plain": [
       "array([2, 1, 2, 0, 1, 0, 1, 0, 2, 0, 0, 1, 2, 1, 2, 1, 0, 1, 2, 0, 0, 2,\n",
       "       0, 2, 1, 0, 1, 2, 1, 0])"
      ]
     },
     "execution_count": 34,
     "metadata": {},
     "output_type": "execute_result"
    }
   ],
   "source": [
    "from sklearn.tree import DecisionTreeClassifier\n",
    "df_clf = DecisionTreeClassifier(random_state=42)\n",
    "df_clf.fit(x_train,y_train)\n",
    "y_pred_dt = df_clf.predict(x_test)\n",
    "y_pred_dt"
   ]
  },
  {
   "cell_type": "markdown",
   "id": "fddf670b",
   "metadata": {},
   "source": [
    "##### Summarizing the performance of the alogorithm"
   ]
  },
  {
   "cell_type": "code",
   "execution_count": 35,
   "id": "0cfa16e7",
   "metadata": {},
   "outputs": [
    {
     "name": "stdout",
     "output_type": "stream",
     "text": [
      "Confusion Matrix:\n",
      " [[11  0  0]\n",
      " [ 0  9  1]\n",
      " [ 0  1  8]]\n",
      "Classification Report:\n",
      "               precision    recall  f1-score   support\n",
      "\n",
      "           0       1.00      1.00      1.00        11\n",
      "           1       0.90      0.90      0.90        10\n",
      "           2       0.89      0.89      0.89         9\n",
      "\n",
      "    accuracy                           0.93        30\n",
      "   macro avg       0.93      0.93      0.93        30\n",
      "weighted avg       0.93      0.93      0.93        30\n",
      "\n",
      "Accuracy:  0.9333333333333333\n",
      "Precision of decision tree model : 0.898148148148148\n",
      "Recall of decision tree model : 0.8962962962962964\n",
      "F-score of decision tree model : 0.8958386303924062\n"
     ]
    }
   ],
   "source": [
    "conf_m_dt = confusion_matrix(y_test, y_pred_dt)\n",
    "print('Confusion Matrix:\\n',conf_m_dt)\n",
    "clas_rpt_dt = classification_report(y_test, y_pred_dt)\n",
    "print('Classification Report:\\n', clas_rpt_dt)\n",
    "acc_dt = accuracy_score(y_test, y_pred_dt)\n",
    "print('Accuracy: ', acc_dt)\n",
    "\n",
    "from sklearn.metrics import precision_recall_fscore_support as score\n",
    "\n",
    "precision_dt,recall_dt,fscore_dt,support_dt=score(y_test,y_pred_lr,average='macro')\n",
    "print('Precision of decision tree model : {}'.format(precision_dt))\n",
    "print('Recall of decision tree model : {}'.format(recall_dt))\n",
    "print('F-score of decision tree model : {}'.format(fscore_dt))"
   ]
  },
  {
   "cell_type": "markdown",
   "id": "56983c8f",
   "metadata": {},
   "source": [
    "# Random Forest"
   ]
  },
  {
   "cell_type": "code",
   "execution_count": 36,
   "id": "5de71c33",
   "metadata": {},
   "outputs": [
    {
     "data": {
      "text/plain": [
       "array([2, 1, 2, 0, 1, 0, 1, 0, 2, 0, 0, 1, 2, 1, 2, 1, 0, 1, 2, 0, 0, 2,\n",
       "       0, 2, 1, 0, 1, 2, 1, 0])"
      ]
     },
     "execution_count": 36,
     "metadata": {},
     "output_type": "execute_result"
    }
   ],
   "source": [
    "from sklearn.ensemble import RandomForestClassifier\n",
    "# random_state is optional\n",
    "rf_clf = RandomForestClassifier(random_state=42)\n",
    "rf_clf.fit(x_train,y_train)\n",
    "y_pred_rf = rf_clf.predict(x_test)\n",
    "y_pred_rf"
   ]
  },
  {
   "cell_type": "markdown",
   "id": "ce20a33e",
   "metadata": {},
   "source": [
    "##### Summarizing the performance of the alogorithm"
   ]
  },
  {
   "cell_type": "code",
   "execution_count": 37,
   "id": "2128b115",
   "metadata": {},
   "outputs": [
    {
     "name": "stdout",
     "output_type": "stream",
     "text": [
      "Confusion Matrix:\n",
      " [[11  0  0]\n",
      " [ 0  9  1]\n",
      " [ 0  1  8]]\n",
      "Classification Report:\n",
      "               precision    recall  f1-score   support\n",
      "\n",
      "           0       1.00      1.00      1.00        11\n",
      "           1       0.90      0.90      0.90        10\n",
      "           2       0.89      0.89      0.89         9\n",
      "\n",
      "    accuracy                           0.93        30\n",
      "   macro avg       0.93      0.93      0.93        30\n",
      "weighted avg       0.93      0.93      0.93        30\n",
      "\n",
      "Accuracy:  0.9333333333333333\n",
      "Precision of Random Forest Model : 0.898148148148148\n",
      "Recall of Random Forest Model : 0.8962962962962964\n",
      "F-score of Random Forest Model : 0.8958386303924062\n"
     ]
    }
   ],
   "source": [
    "conf_m_rf = confusion_matrix(y_test, y_pred_rf)\n",
    "print('Confusion Matrix:\\n',conf_m_rf)\n",
    "clas_rpt_rf = classification_report(y_test, y_pred_rf)\n",
    "print('Classification Report:\\n', clas_rpt_rf)\n",
    "acc_rf = accuracy_score(y_test, y_pred_rf)\n",
    "print('Accuracy: ', acc_rf)\n",
    "\n",
    "from sklearn.metrics import precision_recall_fscore_support as score\n",
    "\n",
    "precision_rf,recall_rf,fscore_rf,support_rf=score(y_test,y_pred_lr,average='macro')\n",
    "print('Precision of Random Forest Model : {}'.format(precision_rf))\n",
    "print('Recall of Random Forest Model : {}'.format(recall_rf))\n",
    "print('F-score of Random Forest Model : {}'.format(fscore_rf))"
   ]
  },
  {
   "cell_type": "code",
   "execution_count": 38,
   "id": "78d9d7bd",
   "metadata": {},
   "outputs": [
    {
     "name": "stdout",
     "output_type": "stream",
     "text": [
      "accuracy =  0.9333333333333333\n"
     ]
    }
   ],
   "source": [
    "# Trying with estimators\n",
    "rf_clf = RandomForestClassifier(n_estimators=20)\n",
    "rf_clf.fit(x_train,y_train)\n",
    "y_pred_rf1 = rf_clf.predict(x_test)\n",
    "print('accuracy = ',accuracy_score(y_test,y_pred_rf1))"
   ]
  },
  {
   "cell_type": "code",
   "execution_count": 39,
   "id": "c4e11abf",
   "metadata": {},
   "outputs": [
    {
     "name": "stdout",
     "output_type": "stream",
     "text": [
      "accuracy =  0.9333333333333333\n"
     ]
    }
   ],
   "source": [
    "# Trying with different value of estimators\n",
    "rf_clf = RandomForestClassifier(n_estimators=50)\n",
    "rf_clf.fit(x_train,y_train)\n",
    "y_pred_rf2 = rf_clf.predict(x_test)\n",
    "print('accuracy = ',accuracy_score(y_test,y_pred_rf2))"
   ]
  },
  {
   "cell_type": "code",
   "execution_count": 40,
   "id": "b4750d53",
   "metadata": {},
   "outputs": [],
   "source": [
    "# Accuracy isn't changing here with n estimators"
   ]
  },
  {
   "cell_type": "markdown",
   "id": "77d19f6f",
   "metadata": {},
   "source": [
    "### Evaluate models based on value of accuracy"
   ]
  },
  {
   "cell_type": "code",
   "execution_count": 41,
   "id": "def15e77",
   "metadata": {},
   "outputs": [],
   "source": [
    "# accuracies of each models\n",
    "Accuracy_models = {'Logistic':acc_lr, 'kNN':acc_k, 'SVC with linear kernel':acc_SVClr, 'SVC with rbf kernel':acc_SVCr, 'SVC with poly kernel':acc_SVCp, 'Decision tree':acc_dt, 'Random forest':acc_rf}"
   ]
  },
  {
   "cell_type": "code",
   "execution_count": 42,
   "id": "d9180e4c",
   "metadata": {},
   "outputs": [
    {
     "data": {
      "text/plain": [
       "[(0.9, 'Logistic'),\n",
       " (0.9, 'SVC with rbf kernel'),\n",
       " (0.9333333333333333, 'Decision tree'),\n",
       " (0.9333333333333333, 'Random forest'),\n",
       " (0.9333333333333333, 'SVC with poly kernel'),\n",
       " (0.9333333333333333, 'kNN'),\n",
       " (0.9666666666666667, 'SVC with linear kernel')]"
      ]
     },
     "execution_count": 42,
     "metadata": {},
     "output_type": "execute_result"
    }
   ],
   "source": [
    "# Sort accuracy of each model\n",
    "Accuracy_sorted = sorted([(value, key)\n",
    " for (key, value) in Accuracy_models.items()])\n",
    "\n",
    "Accuracy_sorted"
   ]
  },
  {
   "cell_type": "code",
   "execution_count": 43,
   "id": "494280c4",
   "metadata": {},
   "outputs": [],
   "source": [
    "# We can see that SVC with linear model is having high accuracy and hence the best model for this data set"
   ]
  },
  {
   "cell_type": "markdown",
   "id": "b70f2d96",
   "metadata": {},
   "source": [
    "### Evaluate models based on precision"
   ]
  },
  {
   "cell_type": "code",
   "execution_count": 44,
   "id": "6f440c70",
   "metadata": {},
   "outputs": [],
   "source": [
    "# Precision of each models\n",
    "Precision_models = {'Logistic':precision_lr, 'kNN':precision_k, 'SVC with linear kernel':precision_SVClr, 'SVC with rbf kernel':precision_SVCr, 'SVC with poly kernel':precision_SVCp, 'Decision tree':precision_dt, 'Random forest':precision_rf}"
   ]
  },
  {
   "cell_type": "code",
   "execution_count": 45,
   "id": "10fc9be3",
   "metadata": {},
   "outputs": [
    {
     "data": {
      "text/plain": [
       "[(0.9, 'Logistic'),\n",
       " (0.9, 'SVC with rbf kernel'),\n",
       " (0.9333333333333333, 'Decision tree'),\n",
       " (0.9333333333333333, 'Random forest'),\n",
       " (0.9333333333333333, 'SVC with poly kernel'),\n",
       " (0.9333333333333333, 'kNN'),\n",
       " (0.9666666666666667, 'SVC with linear kernel')]"
      ]
     },
     "execution_count": 45,
     "metadata": {},
     "output_type": "execute_result"
    }
   ],
   "source": [
    "# Sort precision of each model\n",
    "Precision_sorted = sorted([(value, key)\n",
    " for (key, value) in Accuracy_models.items()])\n",
    "\n",
    "Precision_sorted"
   ]
  },
  {
   "cell_type": "code",
   "execution_count": 46,
   "id": "a589ace7",
   "metadata": {},
   "outputs": [],
   "source": [
    "# Considering Precision, again 'SVC with linear kernel' is the best model for this data set"
   ]
  },
  {
   "cell_type": "markdown",
   "id": "11722e61",
   "metadata": {},
   "source": [
    "### Evaluate models based on f1 score"
   ]
  },
  {
   "cell_type": "code",
   "execution_count": 47,
   "id": "6aa6a883",
   "metadata": {},
   "outputs": [],
   "source": [
    "f1_score_models = {'Logistic':fscore_lr, 'kNN':fscore_k, 'SVC with linear kernel':fscore_SVClr, 'SVC with rbf kernel':fscore_SVCr, 'SVC with poly kernel':fscore_SVCp, 'Decision tree':fscore_dt, 'Random forest':fscore_rf}"
   ]
  },
  {
   "cell_type": "code",
   "execution_count": 48,
   "id": "c7fd7768",
   "metadata": {},
   "outputs": [
    {
     "data": {
      "text/plain": [
       "[(0.9, 'Logistic'),\n",
       " (0.9, 'SVC with rbf kernel'),\n",
       " (0.9333333333333333, 'Decision tree'),\n",
       " (0.9333333333333333, 'Random forest'),\n",
       " (0.9333333333333333, 'SVC with poly kernel'),\n",
       " (0.9333333333333333, 'kNN'),\n",
       " (0.9666666666666667, 'SVC with linear kernel')]"
      ]
     },
     "execution_count": 48,
     "metadata": {},
     "output_type": "execute_result"
    }
   ],
   "source": [
    "f1_score_sorted = sorted([(value, key)\n",
    " for (key, value) in Accuracy_models.items()])\n",
    "\n",
    "f1_score_sorted"
   ]
  },
  {
   "cell_type": "code",
   "execution_count": 49,
   "id": "e2372103",
   "metadata": {},
   "outputs": [],
   "source": [
    "# Considering f1 score also gives same result. 'SVC with linear kernel' is the best model for this data set"
   ]
  }
 ],
 "metadata": {
  "kernelspec": {
   "display_name": "Python 3 (ipykernel)",
   "language": "python",
   "name": "python3"
  },
  "language_info": {
   "codemirror_mode": {
    "name": "ipython",
    "version": 3
   },
   "file_extension": ".py",
   "mimetype": "text/x-python",
   "name": "python",
   "nbconvert_exporter": "python",
   "pygments_lexer": "ipython3",
   "version": "3.9.13"
  }
 },
 "nbformat": 4,
 "nbformat_minor": 5
}
